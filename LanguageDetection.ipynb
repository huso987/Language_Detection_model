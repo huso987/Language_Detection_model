{
 "cells": [
  {
   "cell_type": "code",
   "execution_count": 1,
   "id": "ce250554-2092-4d52-b983-ba9f56844b40",
   "metadata": {},
   "outputs": [
    {
     "name": "stderr",
     "output_type": "stream",
     "text": [
      "2023-12-26 00:19:09.504048: E external/local_xla/xla/stream_executor/cuda/cuda_dnn.cc:9261] Unable to register cuDNN factory: Attempting to register factory for plugin cuDNN when one has already been registered\n",
      "2023-12-26 00:19:09.504503: E external/local_xla/xla/stream_executor/cuda/cuda_fft.cc:607] Unable to register cuFFT factory: Attempting to register factory for plugin cuFFT when one has already been registered\n",
      "2023-12-26 00:19:09.618708: E external/local_xla/xla/stream_executor/cuda/cuda_blas.cc:1515] Unable to register cuBLAS factory: Attempting to register factory for plugin cuBLAS when one has already been registered\n",
      "2023-12-26 00:19:09.855995: I tensorflow/core/platform/cpu_feature_guard.cc:182] This TensorFlow binary is optimized to use available CPU instructions in performance-critical operations.\n",
      "To enable the following instructions: FMA, in other operations, rebuild TensorFlow with the appropriate compiler flags.\n",
      "2023-12-26 00:19:13.964600: W tensorflow/compiler/tf2tensorrt/utils/py_utils.cc:38] TF-TRT Warning: Could not find TensorRT\n"
     ]
    },
    {
     "name": "stdout",
     "output_type": "stream",
     "text": [
      "100% [..........................................................] 13881 / 13881"
     ]
    },
    {
     "name": "stderr",
     "output_type": "stream",
     "text": [
      "[nltk_data] Downloading package stopwords to\n",
      "[nltk_data]     /home/huseyin/nltk_data...\n",
      "[nltk_data]   Package stopwords is already up-to-date!\n"
     ]
    }
   ],
   "source": [
    "#Kütüphaneler\n",
    "import numpy as np \n",
    "import pandas as pd \n",
    "import matplotlib.pyplot as plt\n",
    "import seaborn as sns\n",
    "import warnings, wget\n",
    "warnings.filterwarnings(\"ignore\")\n",
    "import tensorflow as tf\n",
    "from tensorflow.keras.models import Model\n",
    "from tensorflow.keras.layers import Dense, Input, Dropout, Flatten\n",
    "from tensorflow.keras.callbacks import EarlyStopping, ModelCheckpoint\n",
    "from tensorflow.keras.losses import CategoricalCrossentropy\n",
    "from tensorflow.keras.optimizers import Adam\n",
    "from tensorflow.keras.metrics import CategoricalAccuracy\n",
    "from tensorflow.keras.utils import to_categorical, plot_model\n",
    "from sklearn.model_selection import train_test_split\n",
    "from sklearn.metrics import confusion_matrix, classification_report\n",
    "# from sklearn.metrics import plot_confusion_matrix \n",
    "from wordcloud import WordCloud\n",
    "wget.download(\"https://raw.githubusercontent.com/yogawicaksana/helper_prabowo/main/helper_prabowo_ml.py\",out=\"helper_prabowo_ml.py\")\n",
    "from helper_prabowo_ml import clean_html, remove_links, remove_special_characters, removeStopWords, remove_, remove_digits, lower, email_address, non_ascii, punct, hashtags\n",
    "from transformers import AutoTokenizer, TFAutoModelForSequenceClassification"
   ]
  },
  {
   "cell_type": "code",
   "execution_count": 2,
   "id": "a7316483-beb9-41a4-8be7-5665cbb67779",
   "metadata": {},
   "outputs": [
    {
     "data": {
      "text/html": [
       "<div>\n",
       "<style scoped>\n",
       "    .dataframe tbody tr th:only-of-type {\n",
       "        vertical-align: middle;\n",
       "    }\n",
       "\n",
       "    .dataframe tbody tr th {\n",
       "        vertical-align: top;\n",
       "    }\n",
       "\n",
       "    .dataframe thead th {\n",
       "        text-align: right;\n",
       "    }\n",
       "</style>\n",
       "<table border=\"1\" class=\"dataframe\">\n",
       "  <thead>\n",
       "    <tr style=\"text-align: right;\">\n",
       "      <th></th>\n",
       "      <th>Text</th>\n",
       "      <th>Language</th>\n",
       "    </tr>\n",
       "  </thead>\n",
       "  <tbody>\n",
       "    <tr>\n",
       "      <th>4627</th>\n",
       "      <td>oke laten we beginnen.</td>\n",
       "      <td>Dutch</td>\n",
       "    </tr>\n",
       "    <tr>\n",
       "      <th>10089</th>\n",
       "      <td>ಬೆರಳುಗಳು ದಾಟಿದೆ.</td>\n",
       "      <td>Kannada</td>\n",
       "    </tr>\n",
       "    <tr>\n",
       "      <th>2563</th>\n",
       "      <td>[41] Em 2006, cerca de 1 800 artigos foram adi...</td>\n",
       "      <td>Portugeese</td>\n",
       "    </tr>\n",
       "    <tr>\n",
       "      <th>533</th>\n",
       "      <td>Articles depicting what some critics have call...</td>\n",
       "      <td>English</td>\n",
       "    </tr>\n",
       "    <tr>\n",
       "      <th>5907</th>\n",
       "      <td>άδεια.</td>\n",
       "      <td>Greek</td>\n",
       "    </tr>\n",
       "  </tbody>\n",
       "</table>\n",
       "</div>"
      ],
      "text/plain": [
       "                                                    Text    Language\n",
       "4627                              oke laten we beginnen.       Dutch\n",
       "10089                                   ಬೆರಳುಗಳು ದಾಟಿದೆ.     Kannada\n",
       "2563   [41] Em 2006, cerca de 1 800 artigos foram adi...  Portugeese\n",
       "533    Articles depicting what some critics have call...     English\n",
       "5907                                              άδεια.       Greek"
      ]
     },
     "execution_count": 2,
     "metadata": {},
     "output_type": "execute_result"
    }
   ],
   "source": [
    "# veri yükleme\n",
    "df = pd.read_csv(\"Language_Detection.csv\")\n",
    "df = df.sample(frac=1)\n",
    "df.head()"
   ]
  },
  {
   "cell_type": "code",
   "execution_count": 3,
   "id": "c4700b35-35c7-43ef-ac1f-286979550d58",
   "metadata": {},
   "outputs": [
    {
     "data": {
      "text/plain": [
       "66"
      ]
     },
     "execution_count": 3,
     "metadata": {},
     "output_type": "execute_result"
    }
   ],
   "source": [
    "#Tekrarlı veri kontrolu\n",
    "df.duplicated().sum()"
   ]
  },
  {
   "cell_type": "code",
   "execution_count": 4,
   "id": "1fa58ed2-a394-490b-928f-e8b86eac3eee",
   "metadata": {},
   "outputs": [],
   "source": [
    "#Tekrarlı veriyi silme\n",
    "df.drop_duplicates(inplace= True)"
   ]
  },
  {
   "cell_type": "code",
   "execution_count": 5,
   "id": "0ce23afa-8096-489a-b2a2-f865a29c8eb7",
   "metadata": {},
   "outputs": [
    {
     "data": {
      "text/plain": [
       "(10271, 2)"
      ]
     },
     "execution_count": 5,
     "metadata": {},
     "output_type": "execute_result"
    }
   ],
   "source": [
    "#satır ve sütun sayısı\n",
    "df.shape"
   ]
  },
  {
   "cell_type": "code",
   "execution_count": 6,
   "id": "172c5757-b582-4092-8562-8c5726a5eeae",
   "metadata": {},
   "outputs": [
    {
     "data": {
      "text/plain": [
       "array(['Dutch', 'Kannada', 'Portugeese', 'English', 'Greek', 'French',\n",
       "       'German', 'Malayalam', 'Spanish', 'Sweedish', 'Arabic', 'Turkish',\n",
       "       'Tamil', 'Russian', 'Italian', 'Hindi', 'Danish'], dtype=object)"
      ]
     },
     "execution_count": 6,
     "metadata": {},
     "output_type": "execute_result"
    }
   ],
   "source": [
    "# diller\n",
    "df.Language.unique()"
   ]
  },
  {
   "cell_type": "code",
   "execution_count": 7,
   "id": "7bf75891-4af9-4fab-99d0-66bc9164b98d",
   "metadata": {},
   "outputs": [
    {
     "data": {
      "image/png": "[encoded data removed]",
      "text/plain": [
       "<Figure size 640x480 with 1 Axes>"
      ]
     },
     "metadata": {},
     "output_type": "display_data"
    }
   ],
   "source": [
    "# diilerin dağılışı\n",
    "sns.countplot(df.Language)\n",
    "plt.tight_layout();"
   ]
  },
  {
   "cell_type": "code",
   "execution_count": 8,
   "id": "06fd78b7-80d3-4594-9a7b-d017daf91547",
   "metadata": {},
   "outputs": [
    {
     "data": {
      "image/png": "[encoded data removed]",
      "text/plain": [
       "<Figure size 640x480 with 1 Axes>"
      ]
     },
     "metadata": {},
     "output_type": "display_data"
    }
   ],
   "source": [
    "df['num_words'] = df.Text.apply(len)\n",
    "sns.distplot(df.num_words);"
   ]
  },
  {
   "cell_type": "code",
   "execution_count": 9,
   "id": "9f19710a-e5cd-4c10-a558-9982cf76e07e",
   "metadata": {},
   "outputs": [
    {
     "data": {
      "text/plain": [
       "count    10271.000000\n",
       "mean       124.742966\n",
       "std        254.349901\n",
       "min          1.000000\n",
       "25%         44.000000\n",
       "50%        100.000000\n",
       "75%        166.000000\n",
       "max      19088.000000\n",
       "Name: num_words, dtype: float64"
      ]
     },
     "execution_count": 9,
     "metadata": {},
     "output_type": "execute_result"
    }
   ],
   "source": [
    "df.num_words.describe()"
   ]
  },
  {
   "cell_type": "code",
   "execution_count": 10,
   "id": "d7520841-a102-4604-90a0-83c437a77634",
   "metadata": {},
   "outputs": [],
   "source": [
    "# veri önişleme\n",
    "def text_preprocess(data,col):\n",
    "    data[col] = data[col].apply(func=clean_html)\n",
    "    data[col] = data[col].apply(func=remove_)\n",
    "    data[col] = data[col].apply(func=removeStopWords)\n",
    "    data[col] = data[col].apply(func=remove_digits)\n",
    "    data[col] = data[col].apply(func=remove_links)\n",
    "    data[col] = data[col].apply(func=remove_special_characters)\n",
    "    data[col] = data[col].apply(func=punct)\n",
    "    data[col] = data[col].apply(func=non_ascii)\n",
    "    data[col] = data[col].apply(func=email_address)\n",
    "    data[col] = data[col].apply(func=lower)\n",
    "    return data"
   ]
  },
  {
   "cell_type": "code",
   "execution_count": 11,
   "id": "f02276e3-d1b8-4624-b427-4f5f3c80abb7",
   "metadata": {},
   "outputs": [
    {
     "data": {
      "text/html": [
       "<div>\n",
       "<style scoped>\n",
       "    .dataframe tbody tr th:only-of-type {\n",
       "        vertical-align: middle;\n",
       "    }\n",
       "\n",
       "    .dataframe tbody tr th {\n",
       "        vertical-align: top;\n",
       "    }\n",
       "\n",
       "    .dataframe thead th {\n",
       "        text-align: right;\n",
       "    }\n",
       "</style>\n",
       "<table border=\"1\" class=\"dataframe\">\n",
       "  <thead>\n",
       "    <tr style=\"text-align: right;\">\n",
       "      <th></th>\n",
       "      <th>Text</th>\n",
       "      <th>Language</th>\n",
       "      <th>num_words</th>\n",
       "    </tr>\n",
       "  </thead>\n",
       "  <tbody>\n",
       "    <tr>\n",
       "      <th>4627</th>\n",
       "      <td>oke laten beginnen</td>\n",
       "      <td>Dutch</td>\n",
       "      <td>22</td>\n",
       "    </tr>\n",
       "    <tr>\n",
       "      <th>10089</th>\n",
       "      <td></td>\n",
       "      <td>Kannada</td>\n",
       "      <td>16</td>\n",
       "    </tr>\n",
       "    <tr>\n",
       "      <th>2563</th>\n",
       "      <td>em cerca de artigos foram adicionados diariame...</td>\n",
       "      <td>Portugeese</td>\n",
       "      <td>125</td>\n",
       "    </tr>\n",
       "    <tr>\n",
       "      <th>533</th>\n",
       "      <td>articles depicting critics called objectionabl...</td>\n",
       "      <td>English</td>\n",
       "      <td>253</td>\n",
       "    </tr>\n",
       "    <tr>\n",
       "      <th>5907</th>\n",
       "      <td></td>\n",
       "      <td>Greek</td>\n",
       "      <td>6</td>\n",
       "    </tr>\n",
       "  </tbody>\n",
       "</table>\n",
       "</div>"
      ],
      "text/plain": [
       "                                                    Text    Language  \\\n",
       "4627                                  oke laten beginnen       Dutch   \n",
       "10089                                                        Kannada   \n",
       "2563   em cerca de artigos foram adicionados diariame...  Portugeese   \n",
       "533    articles depicting critics called objectionabl...     English   \n",
       "5907                                                           Greek   \n",
       "\n",
       "       num_words  \n",
       "4627          22  \n",
       "10089         16  \n",
       "2563         125  \n",
       "533          253  \n",
       "5907           6  "
      ]
     },
     "execution_count": 11,
     "metadata": {},
     "output_type": "execute_result"
    }
   ],
   "source": [
    "preprocessed_df = text_preprocess(df,'Text')\n",
    "preprocessed_df.head()"
   ]
  },
  {
   "cell_type": "code",
   "execution_count": 12,
   "id": "f6fc21ed-0c2b-4823-bea5-93e3e1d64c10",
   "metadata": {},
   "outputs": [
    {
     "data": {
      "text/plain": [
       "{'Dutch': 0,\n",
       " 'Kannada': 1,\n",
       " 'Portugeese': 2,\n",
       " 'English': 3,\n",
       " 'Greek': 4,\n",
       " 'French': 5,\n",
       " 'German': 6,\n",
       " 'Malayalam': 7,\n",
       " 'Spanish': 8,\n",
       " 'Sweedish': 9,\n",
       " 'Arabic': 10,\n",
       " 'Turkish': 11,\n",
       " 'Tamil': 12,\n",
       " 'Russian': 13,\n",
       " 'Italian': 14,\n",
       " 'Hindi': 15,\n",
       " 'Danish': 16}"
      ]
     },
     "execution_count": 12,
     "metadata": {},
     "output_type": "execute_result"
    }
   ],
   "source": [
    "# encooding langage\n",
    "labels_dict = {}\n",
    "for idx, lang in enumerate(preprocessed_df.Language.unique()):\n",
    "    labels_dict[lang] = idx\n",
    "labels_dict"
   ]
  },
  {
   "cell_type": "code",
   "execution_count": 13,
   "id": "c6b9208a-f49d-48d7-9b18-56795f788b6a",
   "metadata": {},
   "outputs": [
    {
     "data": {
      "text/html": [
       "<div>\n",
       "<style scoped>\n",
       "    .dataframe tbody tr th:only-of-type {\n",
       "        vertical-align: middle;\n",
       "    }\n",
       "\n",
       "    .dataframe tbody tr th {\n",
       "        vertical-align: top;\n",
       "    }\n",
       "\n",
       "    .dataframe thead th {\n",
       "        text-align: right;\n",
       "    }\n",
       "</style>\n",
       "<table border=\"1\" class=\"dataframe\">\n",
       "  <thead>\n",
       "    <tr style=\"text-align: right;\">\n",
       "      <th></th>\n",
       "      <th>Text</th>\n",
       "      <th>Language</th>\n",
       "      <th>num_words</th>\n",
       "      <th>Label</th>\n",
       "    </tr>\n",
       "  </thead>\n",
       "  <tbody>\n",
       "    <tr>\n",
       "      <th>4627</th>\n",
       "      <td>oke laten beginnen</td>\n",
       "      <td>Dutch</td>\n",
       "      <td>22</td>\n",
       "      <td>0</td>\n",
       "    </tr>\n",
       "    <tr>\n",
       "      <th>10089</th>\n",
       "      <td></td>\n",
       "      <td>Kannada</td>\n",
       "      <td>16</td>\n",
       "      <td>1</td>\n",
       "    </tr>\n",
       "    <tr>\n",
       "      <th>2563</th>\n",
       "      <td>em cerca de artigos foram adicionados diariame...</td>\n",
       "      <td>Portugeese</td>\n",
       "      <td>125</td>\n",
       "      <td>2</td>\n",
       "    </tr>\n",
       "    <tr>\n",
       "      <th>533</th>\n",
       "      <td>articles depicting critics called objectionabl...</td>\n",
       "      <td>English</td>\n",
       "      <td>253</td>\n",
       "      <td>3</td>\n",
       "    </tr>\n",
       "    <tr>\n",
       "      <th>5907</th>\n",
       "      <td></td>\n",
       "      <td>Greek</td>\n",
       "      <td>6</td>\n",
       "      <td>4</td>\n",
       "    </tr>\n",
       "  </tbody>\n",
       "</table>\n",
       "</div>"
      ],
      "text/plain": [
       "                                                    Text    Language  \\\n",
       "4627                                  oke laten beginnen       Dutch   \n",
       "10089                                                        Kannada   \n",
       "2563   em cerca de artigos foram adicionados diariame...  Portugeese   \n",
       "533    articles depicting critics called objectionabl...     English   \n",
       "5907                                                           Greek   \n",
       "\n",
       "       num_words  Label  \n",
       "4627          22      0  \n",
       "10089         16      1  \n",
       "2563         125      2  \n",
       "533          253      3  \n",
       "5907           6      4  "
      ]
     },
     "execution_count": 13,
     "metadata": {},
     "output_type": "execute_result"
    }
   ],
   "source": [
    "preprocessed_df['Label'] = preprocessed_df.Language.map(labels_dict)\n",
    "preprocessed_df.head()"
   ]
  },
  {
   "cell_type": "code",
   "execution_count": 14,
   "id": "1d28e6e4-65cc-4c1e-94c4-04e0bef6748c",
   "metadata": {},
   "outputs": [
    {
     "data": {
      "text/html": [
       "<div>\n",
       "<style scoped>\n",
       "    .dataframe tbody tr th:only-of-type {\n",
       "        vertical-align: middle;\n",
       "    }\n",
       "\n",
       "    .dataframe tbody tr th {\n",
       "        vertical-align: top;\n",
       "    }\n",
       "\n",
       "    .dataframe thead th {\n",
       "        text-align: right;\n",
       "    }\n",
       "</style>\n",
       "<table border=\"1\" class=\"dataframe\">\n",
       "  <thead>\n",
       "    <tr style=\"text-align: right;\">\n",
       "      <th></th>\n",
       "      <th>Text</th>\n",
       "      <th>Language</th>\n",
       "      <th>num_words</th>\n",
       "      <th>Label</th>\n",
       "    </tr>\n",
       "  </thead>\n",
       "  <tbody>\n",
       "    <tr>\n",
       "      <th>9472</th>\n",
       "      <td></td>\n",
       "      <td>Arabic</td>\n",
       "      <td>82</td>\n",
       "      <td>10</td>\n",
       "    </tr>\n",
       "    <tr>\n",
       "      <th>181</th>\n",
       "      <td>among ways classifying plants regional floras ...</td>\n",
       "      <td>English</td>\n",
       "      <td>182</td>\n",
       "      <td>3</td>\n",
       "    </tr>\n",
       "    <tr>\n",
       "      <th>3778</th>\n",
       "      <td>le https empchant les censeurs de voir quelle ...</td>\n",
       "      <td>French</td>\n",
       "      <td>259</td>\n",
       "      <td>5</td>\n",
       "    </tr>\n",
       "    <tr>\n",
       "      <th>3181</th>\n",
       "      <td>sade eu realmente aprecio isso</td>\n",
       "      <td>Portugeese</td>\n",
       "      <td>33</td>\n",
       "      <td>2</td>\n",
       "    </tr>\n",
       "    <tr>\n",
       "      <th>6921</th>\n",
       "      <td>jeg kunne ikke bryde mig mindre hvis nogen spr...</td>\n",
       "      <td>Danish</td>\n",
       "      <td>210</td>\n",
       "      <td>16</td>\n",
       "    </tr>\n",
       "    <tr>\n",
       "      <th>...</th>\n",
       "      <td>...</td>\n",
       "      <td>...</td>\n",
       "      <td>...</td>\n",
       "      <td>...</td>\n",
       "    </tr>\n",
       "    <tr>\n",
       "      <th>563</th>\n",
       "      <td>the wall street journal reported may tretikov ...</td>\n",
       "      <td>English</td>\n",
       "      <td>318</td>\n",
       "      <td>3</td>\n",
       "    </tr>\n",
       "    <tr>\n",
       "      <th>5119</th>\n",
       "      <td>esta organizacin se encarg de registrar los do...</td>\n",
       "      <td>Spanish</td>\n",
       "      <td>178</td>\n",
       "      <td>8</td>\n",
       "    </tr>\n",
       "    <tr>\n",
       "      <th>235</th>\n",
       "      <td>the remainder believed consist percent cold da...</td>\n",
       "      <td>English</td>\n",
       "      <td>99</td>\n",
       "      <td>3</td>\n",
       "    </tr>\n",
       "    <tr>\n",
       "      <th>5874</th>\n",
       "      <td></td>\n",
       "      <td>Greek</td>\n",
       "      <td>22</td>\n",
       "      <td>4</td>\n",
       "    </tr>\n",
       "    <tr>\n",
       "      <th>9145</th>\n",
       "      <td></td>\n",
       "      <td>Arabic</td>\n",
       "      <td>142</td>\n",
       "      <td>10</td>\n",
       "    </tr>\n",
       "  </tbody>\n",
       "</table>\n",
       "<p>10271 rows × 4 columns</p>\n",
       "</div>"
      ],
      "text/plain": [
       "                                                   Text    Language  \\\n",
       "9472                                                         Arabic   \n",
       "181   among ways classifying plants regional floras ...     English   \n",
       "3778  le https empchant les censeurs de voir quelle ...      French   \n",
       "3181                     sade eu realmente aprecio isso  Portugeese   \n",
       "6921  jeg kunne ikke bryde mig mindre hvis nogen spr...      Danish   \n",
       "...                                                 ...         ...   \n",
       "563   the wall street journal reported may tretikov ...     English   \n",
       "5119  esta organizacin se encarg de registrar los do...     Spanish   \n",
       "235   the remainder believed consist percent cold da...     English   \n",
       "5874                                                          Greek   \n",
       "9145                                                         Arabic   \n",
       "\n",
       "      num_words  Label  \n",
       "9472         82     10  \n",
       "181         182      3  \n",
       "3778        259      5  \n",
       "3181         33      2  \n",
       "6921        210     16  \n",
       "...         ...    ...  \n",
       "563         318      3  \n",
       "5119        178      8  \n",
       "235          99      3  \n",
       "5874         22      4  \n",
       "9145        142     10  \n",
       "\n",
       "[10271 rows x 4 columns]"
      ]
     },
     "execution_count": 14,
     "metadata": {},
     "output_type": "execute_result"
    }
   ],
   "source": [
    "preprocessed_df.sample(frac=1)"
   ]
  },
  {
   "cell_type": "code",
   "execution_count": 15,
   "id": "bfcddc44-d29c-42f7-9c20-0220d8e7f3cb",
   "metadata": {},
   "outputs": [],
   "source": [
    "# test ve train ayırma\n",
    "train_df, test_df = train_test_split(preprocessed_df,test_size=0.3,random_state=42,shuffle=True,stratify=preprocessed_df.Language)"
   ]
  },
  {
   "cell_type": "code",
   "execution_count": null,
   "id": "b14d24ee-526b-442c-9e4a-09e6d290b425",
   "metadata": {},
   "outputs": [
    {
     "name": "stderr",
     "output_type": "stream",
     "text": [
      "2023-12-26 00:19:47.550228: W external/local_tsl/tsl/framework/cpu_allocator_impl.cc:83] Allocation of 768006144 exceeds 10% of free system memory.\n"
     ]
    }
   ],
   "source": [
    "# tokenization\n",
    "tokenizer = AutoTokenizer.from_pretrained(\"papluca/xlm-roberta-base-language-detection\")\n",
    "xlm = TFAutoModelForSequenceClassification.from_pretrained(\"papluca/xlm-roberta-base-language-detection\",from_pt=True)"
   ]
  },
  {
   "cell_type": "code",
   "execution_count": null,
   "id": "9eade4bd-f8eb-40f3-a70a-cd17dbc4aa18",
   "metadata": {},
   "outputs": [],
   "source": [
    "X_train = tokenizer(text=train_df.Text.tolist(),\n",
    "                   max_length=125,\n",
    "                   padding=True,\n",
    "                   truncation=True,\n",
    "                   add_special_tokens=True,\n",
    "                   return_tensors=\"tf\",\n",
    "                   return_attention_mask=True,\n",
    "                   return_token_type_ids=False,\n",
    "                   verbose=True)\n",
    "\n",
    "X_test = tokenizer(text=test_df.Text.tolist(),\n",
    "                  max_length=125,\n",
    "                  padding=True,\n",
    "                  truncation=True,\n",
    "                  add_special_tokens=True,\n",
    "                  return_tensors=\"tf\",\n",
    "                  return_attention_mask=True,\n",
    "                  return_token_type_ids=False,\n",
    "                  verbose=True)"
   ]
  },
  {
   "cell_type": "code",
   "execution_count": null,
   "id": "04a9cb4c-a14a-4308-b0c5-72d8bf627a81",
   "metadata": {},
   "outputs": [],
   "source": [
    "input_ids = Input(shape=(max_len,),dtype=tf.int32,name='input_ids')\n",
    "attention_mask = Input(shape=(max_len,),dtype=tf.int32,name='attention_mask')"
   ]
  },
  {
   "cell_type": "code",
   "execution_count": null,
   "id": "a8e0887d-cfa3-4092-8fc4-44ce362919b9",
   "metadata": {},
   "outputs": [],
   "source": [
    "embeddings = xlm(input_ids,attention_mask=attention_mask)[0] # 0 --> final hidden state, 1 --> pooling output\n",
    "output = Flatten()(embeddings)\n",
    "output = Dense(units=1024,activation='relu')(output)\n",
    "output = Dropout(0.3)(output)\n",
    "output = Dense(units=512,activation='relu')(output)\n",
    "output = Dropout(0.2)(output)\n",
    "output = Dense(units=512,activation='relu')(output)\n",
    "output = Dropout(0.2)(output)\n",
    "output = Dense(units=128,activation='relu')(output)\n",
    "output = Dense(units=10,activation='softmax')(output)\n",
    "\n",
    "model = Model(inputs=[input_ids,attention_mask],outputs=output)\n",
    "model.layers[2].trainable = True"
   ]
  },
  {
   "cell_type": "code",
   "execution_count": null,
   "id": "5319e3fb-260e-4565-b90b-a4cf6323d90e",
   "metadata": {},
   "outputs": [],
   "source": [
    "model.summary()"
   ]
  },
  {
   "cell_type": "code",
   "execution_count": null,
   "id": "aee6b7cf-034f-4f79-aa0b-c1ffb0afedd0",
   "metadata": {},
   "outputs": [],
   "source": [
    "plot_model(model,'model.png',show_shapes=True,dpi=100,rankdir='TB')"
   ]
  },
  {
   "cell_type": "code",
   "execution_count": null,
   "id": "7fe3694a-10b4-421f-b537-4dc2598c4796",
   "metadata": {},
   "outputs": [],
   "source": [
    "optimizer = Adam(learning_rate=5e-5,epsilon=2e-8,decay=0.01,clipnorm=1.0)\n",
    "loss = CategoricalCrossentropy()\n",
    "metrics = CategoricalAccuracy('balanced_accuracy')\n",
    "model.compile(loss=loss,optimizer=optimizer,metrics=metrics)"
   ]
  },
  {
   "cell_type": "code",
   "execution_count": null,
   "id": "0c016c6b-685d-4716-bcbd-4668379f8dbc",
   "metadata": {},
   "outputs": [],
   "source": [
    "es = EarlyStopping(monitor='val_balanced_accuracy',patience=20,verbose=1,mode='max',restore_best_weights=True)\n",
    "mc = ModelCheckpoint(filepath='checkpoint',monitor='val_balanced_accuracy',mode='max',save_best_only=True,verbose=1)\n",
    "\n",
    "r = model.fit(x={'input_ids': X_train['input_ids'], 'attention_mask': X_train['attention_mask']},\n",
    "              y=to_categorical(train_df.Label),\n",
    "              epochs=5,\n",
    "              batch_size=64,\n",
    "              callbacks=[es,mc],\n",
    "              validation_data=({'input_ids': X_test['input_ids'], 'attention_mask': X_test['attention_mask']},to_categorical(test_df.Label))\n",
    "             )"
   ]
  },
  {
   "cell_type": "code",
   "execution_count": null,
   "id": "9231730b-4edc-4574-a094-c6b4f9e8916a",
   "metadata": {},
   "outputs": [],
   "source": [
    "plt.plot(r.history['loss'],'r',label='train loss')\n",
    "plt.plot(r.history['val_loss'],'b',label='test loss')\n",
    "plt.xlabel('No. of Epochs')\n",
    "plt.ylabel('Categorical Crossentropy Loss')\n",
    "plt.title('Loss Graph')\n",
    "plt.legend();"
   ]
  },
  {
   "cell_type": "code",
   "execution_count": null,
   "id": "845c8e8e-96e7-4d6b-b6e9-e12f1cb57fe8",
   "metadata": {},
   "outputs": [],
   "source": [
    "plt.plot(r.history['balanced_accuracy'],'r',label='train balanced accuracy')\n",
    "plt.plot(r.history['val_balanced_accuracy'],'b',label='test balanced accuracy')\n",
    "plt.xlabel('No. of Epochs')\n",
    "plt.ylabel('Categorical Balanced Accuracy')\n",
    "plt.title('Accuracy Graph')\n",
    "plt.legend();"
   ]
  },
  {
   "cell_type": "code",
   "execution_count": null,
   "id": "f4c9fafb-d492-4633-87df-6ea8203ea548",
   "metadata": {},
   "outputs": [],
   "source": [
    "model.save('language_detector.h5')"
   ]
  },
  {
   "cell_type": "code",
   "execution_count": null,
   "id": "0218527e-c9ad-4b45-bdfd-e012fddc2176",
   "metadata": {},
   "outputs": [],
   "source": [
    "loss, acc = model.evaluate({'input_ids': X_test['input_ids'], 'attention_mask': X_test['attention_mask']},to_categorical(test_df.Label))\n",
    "print(\"Categorical Cross-entropy Loss:\", loss)\n",
    "print(\"Categorical Accuracy:\", acc)"
   ]
  },
  {
   "cell_type": "code",
   "execution_count": null,
   "id": "0f5ce1ca-fbd1-4fd1-9f58-dcdd895eaa26",
   "metadata": {},
   "outputs": [],
   "source": [
    "test_predictions = model.predict({'input_ids': X_test['input_ids'], 'attention_mask': X_test['attention_mask']})\n",
    "test_predictions = np.argmax(test_predictions,axis=1)\n",
    "print(\"Confusion Matrix:\")\n",
    "print(confusion_matrix(test_df.Label,test_predictions))\n",
    "print('-----------------------------')\n",
    "print(\"Encoded Labels:\")\n",
    "print(labels_dict)\n",
    "print('-----------------------------')\n",
    "print(\"Classification Report:\")\n",
    "print(classification_report(test_df.Label,test_predictions))"
   ]
  }
 ],
 "metadata": {
  "kernelspec": {
   "display_name": "Python 3 (ipykernel)",
   "language": "python",
   "name": "python3"
  },
  "language_info": {
   "codemirror_mode": {
    "name": "ipython",
    "version": 3
   },
   "file_extension": ".py",
   "mimetype": "text/x-python",
   "name": "python",
   "nbconvert_exporter": "python",
   "pygments_lexer": "ipython3",
   "version": "3.10.12"
  }
 },
 "nbformat": 4,
 "nbformat_minor": 5
}
